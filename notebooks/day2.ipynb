{
 "cells": [
  {
   "cell_type": "code",
   "execution_count": 1,
   "metadata": {},
   "outputs": [],
   "source": [
    "import os\n",
    "import numpy as np\n",
    "\n",
    "exampel_day3 = \"\"\"\n",
    "467..114..\n",
    "...*......\n",
    "..35..633.\n",
    "......#...\n",
    "617*......\n",
    ".....+.58.\n",
    "..592.....\n",
    "......755.\n",
    "...$.*....\n",
    ".664.598..\n",
    "\"\"\"\n",
    "\n",
    "arr = np.array([[c for c in row] for row in exampel_day3.split(\"\\n\") if row.strip()])"
   ]
  },
  {
   "cell_type": "code",
   "execution_count": 53,
   "metadata": {},
   "outputs": [],
   "source": [
    "def load_data(filename) -> list:\n",
    "    \"\"\"Get the data from adventcode in memmory.\"\"\"\n",
    "    file_path = r\"/home/derek/github/adventcode2023/data/day3.txt\"\n",
    "    with open(file_path, \"r\") as file:\n",
    "        # Use list comprehension to create a list with each line as an element\n",
    "        file_content = file.read()\n",
    "\n",
    "    arr = load_data(\"day3\")\n",
    "    arr = np.array([[c for c in row] for row in arr.split(\"\\n\") if row.strip()])"
   ]
  },
  {
   "cell_type": "code",
   "execution_count": 55,
   "metadata": {},
   "outputs": [
    {
     "data": {
      "text/plain": [
       "(140, 140)"
      ]
     },
     "execution_count": 55,
     "metadata": {},
     "output_type": "execute_result"
    }
   ],
   "source": [
    "arr.shape"
   ]
  },
  {
   "cell_type": "code",
   "execution_count": null,
   "metadata": {},
   "outputs": [],
   "source": []
  },
  {
   "cell_type": "code",
   "execution_count": 37,
   "metadata": {},
   "outputs": [],
   "source": [
    "def is_special(value):\n",
    "    try:\n",
    "        float_value = float(value)\n",
    "        return False\n",
    "    except (ValueError, TypeError):\n",
    "        if value == \".\":\n",
    "            return False\n",
    "        else:\n",
    "            return True\n",
    "\n",
    "\n",
    "def has_special_neighbor(arr, row, col):\n",
    "    m, n = arr.shape\n",
    "\n",
    "    # Define relative positions of neighbors\n",
    "    directions = [(-1, 0), (1, 0), (0, -1), (0, 1), (-1, -1), (-1, 1), (1, -1), (1, 1)]\n",
    "\n",
    "    for dr, dc in directions:\n",
    "        new_row, new_col = row + dr, col + dc\n",
    "        # Check if the new position is within the array bounds\n",
    "        if 0 <= new_row < m and 0 <= new_col < n:\n",
    "            neighbor_value = arr[new_row, new_col]\n",
    "            if is_special(neighbor_value):\n",
    "                return True\n",
    "\n",
    "    return False\n",
    "\n",
    "\n",
    "def make_special_matrix(arr):\n",
    "    uit = []\n",
    "    len_row, len_col = arr.shape\n",
    "    it = np.nditer(arr, flags=[\"multi_index\"])\n",
    "\n",
    "    for x in it:\n",
    "        row, col = it.multi_index\n",
    "        uit.append(has_special_neighbor(arr, row, col))\n",
    "    special_neigh_arr = np.array(uit).reshape(len_row, len_col)\n",
    "    return special_neigh_arr"
   ]
  },
  {
   "cell_type": "code",
   "execution_count": 32,
   "metadata": {},
   "outputs": [
    {
     "ename": "ValueError",
     "evalue": "not enough values to unpack (expected 2, got 1)",
     "output_type": "error",
     "traceback": [
      "\u001b[0;31m---------------------------------------------------------------------------\u001b[0m",
      "\u001b[0;31mValueError\u001b[0m                                Traceback (most recent call last)",
      "Cell \u001b[0;32mIn[32], line 46\u001b[0m\n\u001b[1;32m     43\u001b[0m         res\u001b[38;5;241m.\u001b[39mappend(\u001b[38;5;28mint\u001b[39m(sub_str))\n\u001b[1;32m     44\u001b[0m     \u001b[38;5;28;01mreturn\u001b[39;00m \u001b[38;5;28msum\u001b[39m(res)\n\u001b[0;32m---> 46\u001b[0m special_neigh_arr \u001b[38;5;241m=\u001b[39m \u001b[43mmake_special_matrix\u001b[49m\u001b[43m(\u001b[49m\u001b[43marr\u001b[49m\u001b[43m)\u001b[49m\n\u001b[1;32m     47\u001b[0m sub_vec \u001b[38;5;241m=\u001b[39m find_number_subvectors(arr)\n\u001b[1;32m     49\u001b[0m allowed_sub_vec \u001b[38;5;241m=\u001b[39m sub_vectors_allowed(sub_vec)\n",
      "Cell \u001b[0;32mIn[30], line 29\u001b[0m, in \u001b[0;36mmake_special_matrix\u001b[0;34m(arr)\u001b[0m\n\u001b[1;32m     27\u001b[0m \u001b[38;5;28;01mdef\u001b[39;00m \u001b[38;5;21mmake_special_matrix\u001b[39m(arr):\n\u001b[1;32m     28\u001b[0m     uit \u001b[38;5;241m=\u001b[39m []\n\u001b[0;32m---> 29\u001b[0m     len_row, len_col \u001b[38;5;241m=\u001b[39m arr\u001b[38;5;241m.\u001b[39mshape\n\u001b[1;32m     30\u001b[0m     it \u001b[38;5;241m=\u001b[39m np\u001b[38;5;241m.\u001b[39mnditer(arr, flags\u001b[38;5;241m=\u001b[39m[\u001b[38;5;124m\"\u001b[39m\u001b[38;5;124mmulti_index\u001b[39m\u001b[38;5;124m\"\u001b[39m])\n\u001b[1;32m     32\u001b[0m     \u001b[38;5;28;01mfor\u001b[39;00m x \u001b[38;5;129;01min\u001b[39;00m it:\n",
      "\u001b[0;31mValueError\u001b[0m: not enough values to unpack (expected 2, got 1)"
     ]
    }
   ],
   "source": [
    "def find_number_subvectors(arr):\n",
    "    subvectors = []\n",
    "    for i in range(arr.shape[0]):\n",
    "        subvector = []\n",
    "        start = None\n",
    "\n",
    "        for j in range(arr.shape[1]):\n",
    "            if arr[i, j].isdigit():\n",
    "                if start is None:\n",
    "                    start = j\n",
    "            elif start is not None:\n",
    "                subvector.append((i, start, j - 1))\n",
    "                start = None\n",
    "\n",
    "        # Check if the last element in the row is a number\n",
    "        if start is not None:\n",
    "            subvector.append((i, start, arr.shape[1] - 1))\n",
    "\n",
    "        subvectors.extend(subvector)\n",
    "\n",
    "    return subvectors\n",
    "\n",
    "\n",
    "def sub_vectors_allowed(sub_vector):\n",
    "    res = []\n",
    "    for row, start, end in sub_vector:\n",
    "        r = range(start, end + 1)\n",
    "        keep = False\n",
    "        for col in r:\n",
    "            if special_neigh_arr[row][col]:\n",
    "                keep = True\n",
    "        if keep:\n",
    "            res.append((row, r))\n",
    "    return res\n",
    "\n",
    "\n",
    "def answer1(allowed):\n",
    "    res = []\n",
    "    for row, r in allowed_sub_vec:\n",
    "        sub_str = \"\"\n",
    "        for col in r:\n",
    "            sub_str = sub_str + arr[row][col]\n",
    "\n",
    "        res.append(int(sub_str))\n",
    "    return sum(res)\n",
    "\n",
    "\n",
    "special_neigh_arr = make_special_matrix(arr)\n",
    "sub_vec = find_number_subvectors(arr)\n",
    "\n",
    "allowed_sub_vec = sub_vectors_allowed(sub_vec)\n",
    "print(answer1(allowed_sub_vec))"
   ]
  },
  {
   "cell_type": "code",
   "execution_count": 38,
   "metadata": {},
   "outputs": [
    {
     "data": {
      "text/plain": [
       "(140,)"
      ]
     },
     "execution_count": 38,
     "metadata": {},
     "output_type": "execute_result"
    }
   ],
   "source": [
    "arr.shape"
   ]
  },
  {
   "cell_type": "code",
   "execution_count": 17,
   "metadata": {},
   "outputs": [],
   "source": [
    "uit1 = []\n",
    "for row, r in allowed_sub_vec:\n",
    "    sub_str = \"\"\n",
    "    for col in r:\n",
    "        sub_str = sub_str + arr[row][col]\n",
    "\n",
    "    uit1.append(int(sub_str))"
   ]
  },
  {
   "cell_type": "code",
   "execution_count": 18,
   "metadata": {},
   "outputs": [
    {
     "data": {
      "text/plain": [
       "4361"
      ]
     },
     "execution_count": 18,
     "metadata": {},
     "output_type": "execute_result"
    }
   ],
   "source": [
    "sum(uit1)"
   ]
  },
  {
   "cell_type": "code",
   "execution_count": null,
   "metadata": {},
   "outputs": [],
   "source": []
  }
 ],
 "metadata": {
  "kernelspec": {
   "display_name": "Python 3",
   "language": "python",
   "name": "python3"
  },
  "language_info": {
   "codemirror_mode": {
    "name": "ipython",
    "version": 3
   },
   "file_extension": ".py",
   "mimetype": "text/x-python",
   "name": "python",
   "nbconvert_exporter": "python",
   "pygments_lexer": "ipython3",
   "version": "3.10.12"
  }
 },
 "nbformat": 4,
 "nbformat_minor": 2
}
